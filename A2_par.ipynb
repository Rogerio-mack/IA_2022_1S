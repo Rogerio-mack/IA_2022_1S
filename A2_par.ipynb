{
  "nbformat": 4,
  "nbformat_minor": 0,
  "metadata": {
    "kernelspec": {
      "display_name": "Python 3",
      "language": "python",
      "name": "python3"
    },
    "language_info": {
      "codemirror_mode": {
        "name": "ipython",
        "version": 3
      },
      "file_extension": ".py",
      "mimetype": "text/x-python",
      "name": "python",
      "nbconvert_exporter": "python",
      "pygments_lexer": "ipython3",
      "version": "3.7.4"
    },
    "colab": {
      "name": "A2_par.ipynb",
      "provenance": [],
      "collapsed_sections": [],
      "include_colab_link": true
    }
  },
  "cells": [
    {
      "cell_type": "markdown",
      "metadata": {
        "id": "view-in-github",
        "colab_type": "text"
      },
      "source": [
        "<a href=\"https://colab.research.google.com/github/Rogerio-mack/IA_2022_1S/blob/main/A2_par.ipynb\" target=\"_parent\"><img src=\"https://colab.research.google.com/assets/colab-badge.svg\" alt=\"Open In Colab\"/></a>"
      ]
    },
    {
      "cell_type": "markdown",
      "metadata": {
        "id": "J3LMBfpeHTwb"
      },
      "source": [
        "<head>\n",
        "  <meta name=\"author\" content=\"Rogério de Oliveira\">\n",
        "  <meta institution=\"author\" content=\"Universidade Presbiteriana Mackenzie\">\n",
        "</head>\n",
        "\n",
        "<img src=\"http://meusite.mackenzie.br/rogerio/mackenzie_logo/UPM.2_horizontal_vermelho.jpg\" width=300, align=\"right\">\n",
        "<!-- <h1 align=left><font size = 6, style=\"color:rgb(200,0,0)\"> optional title </font></h1> -->\n"
      ]
    },
    {
      "cell_type": "markdown",
      "metadata": {
        "id": "Ue2YcVySWe_i"
      },
      "source": [
        "# Avaliação N2 \n",
        "***\n",
        "Alunos com **TIA par**\n",
        "\n",
        "Faça os exercícios propostos e em seguida responda ao **questionário no Moodle**.\n",
        "\n",
        "*Boa prova!*"
      ]
    },
    {
      "cell_type": "code",
      "metadata": {
        "id": "xyywcuI7p1kG"
      },
      "source": [
        "import numpy as np\n",
        "import pandas as pd\n",
        "import matplotlib.pyplot as plt\n",
        "%matplotlib inline\n",
        "from matplotlib.lines import Line2D\n",
        "import seaborn as sns"
      ],
      "execution_count": null,
      "outputs": []
    },
    {
      "cell_type": "markdown",
      "metadata": {
        "id": "wF7X-vnhW3OJ"
      },
      "source": [
        "# **Exercício 1.** Clustering, Segmentando Países pela Força de Trabalho \n",
        "Questões no Moodle **Q1, Q2, Q3**"
      ]
    },
    {
      "cell_type": "markdown",
      "metadata": {
        "id": "pfByZcOTDFDL"
      },
      "source": [
        "Esta base de dados contém a percentagem da população empregada em diferentes indústrias em 26 países europeus em 1979. \n",
        "\n",
        "- Country - o nome do país (identificador)\n",
        "- Agr -% da força de trabalho empregada na agricultura\n",
        "- Min -% na mineração\n",
        "- Man -% na fabricação\n",
        "- PS -% nas indústrias de fornecimento de energia\n",
        "- Con - % em construção\n",
        "- SI -% nas indústrias de serviços\n",
        "- Fin -% em finanças\n",
        "- SPS -% em serviços sociais e pessoais\n",
        "- TC -% em transporte e comunicações\n",
        "\n",
        "Fonte: https://statsandr.com/ \n",
        "\n",
        "**Objetivo:** Segmentar os países em grupos para aplicação de diferentes políticas públicas empregando uma clusterização **Kmédias**."
      ]
    },
    {
      "cell_type": "code",
      "metadata": {
        "colab": {
          "base_uri": "https://localhost:8080/",
          "height": 206
        },
        "id": "P6IHT8bPSDS8",
        "outputId": "d8aa10d9-67a6-43fe-b8cf-ee11e15e8d5b"
      },
      "source": [
        "import pandas as pd\n",
        "df = pd.read_csv('http://meusite.mackenzie.br/rogerio/data_load/Eurojobs.csv')\n",
        "df.head()"
      ],
      "execution_count": null,
      "outputs": [
        {
          "output_type": "execute_result",
          "data": {
            "text/html": [
              "<div>\n",
              "<style scoped>\n",
              "    .dataframe tbody tr th:only-of-type {\n",
              "        vertical-align: middle;\n",
              "    }\n",
              "\n",
              "    .dataframe tbody tr th {\n",
              "        vertical-align: top;\n",
              "    }\n",
              "\n",
              "    .dataframe thead th {\n",
              "        text-align: right;\n",
              "    }\n",
              "</style>\n",
              "<table border=\"1\" class=\"dataframe\">\n",
              "  <thead>\n",
              "    <tr style=\"text-align: right;\">\n",
              "      <th></th>\n",
              "      <th>Country</th>\n",
              "      <th>Agr</th>\n",
              "      <th>Min</th>\n",
              "      <th>Man</th>\n",
              "      <th>PS</th>\n",
              "      <th>Con</th>\n",
              "      <th>SI</th>\n",
              "      <th>Fin</th>\n",
              "      <th>SPS</th>\n",
              "      <th>TC</th>\n",
              "    </tr>\n",
              "  </thead>\n",
              "  <tbody>\n",
              "    <tr>\n",
              "      <th>0</th>\n",
              "      <td>Belgium</td>\n",
              "      <td>3.3</td>\n",
              "      <td>0.9</td>\n",
              "      <td>27.6</td>\n",
              "      <td>0.9</td>\n",
              "      <td>8.2</td>\n",
              "      <td>19.1</td>\n",
              "      <td>6.2</td>\n",
              "      <td>26.6</td>\n",
              "      <td>7.2</td>\n",
              "    </tr>\n",
              "    <tr>\n",
              "      <th>1</th>\n",
              "      <td>Denmark</td>\n",
              "      <td>9.2</td>\n",
              "      <td>0.1</td>\n",
              "      <td>21.8</td>\n",
              "      <td>0.6</td>\n",
              "      <td>8.3</td>\n",
              "      <td>14.6</td>\n",
              "      <td>6.5</td>\n",
              "      <td>32.2</td>\n",
              "      <td>7.1</td>\n",
              "    </tr>\n",
              "    <tr>\n",
              "      <th>2</th>\n",
              "      <td>France</td>\n",
              "      <td>10.8</td>\n",
              "      <td>0.8</td>\n",
              "      <td>27.5</td>\n",
              "      <td>0.9</td>\n",
              "      <td>8.9</td>\n",
              "      <td>16.8</td>\n",
              "      <td>6.0</td>\n",
              "      <td>22.6</td>\n",
              "      <td>5.7</td>\n",
              "    </tr>\n",
              "    <tr>\n",
              "      <th>3</th>\n",
              "      <td>W. Germany</td>\n",
              "      <td>6.7</td>\n",
              "      <td>1.3</td>\n",
              "      <td>35.8</td>\n",
              "      <td>0.9</td>\n",
              "      <td>7.3</td>\n",
              "      <td>14.4</td>\n",
              "      <td>5.0</td>\n",
              "      <td>22.3</td>\n",
              "      <td>6.1</td>\n",
              "    </tr>\n",
              "    <tr>\n",
              "      <th>4</th>\n",
              "      <td>Ireland</td>\n",
              "      <td>23.2</td>\n",
              "      <td>1.0</td>\n",
              "      <td>20.7</td>\n",
              "      <td>1.3</td>\n",
              "      <td>7.5</td>\n",
              "      <td>16.8</td>\n",
              "      <td>2.8</td>\n",
              "      <td>20.8</td>\n",
              "      <td>6.1</td>\n",
              "    </tr>\n",
              "  </tbody>\n",
              "</table>\n",
              "</div>"
            ],
            "text/plain": [
              "      Country   Agr  Min   Man   PS  Con    SI  Fin   SPS   TC\n",
              "0     Belgium   3.3  0.9  27.6  0.9  8.2  19.1  6.2  26.6  7.2\n",
              "1     Denmark   9.2  0.1  21.8  0.6  8.3  14.6  6.5  32.2  7.1\n",
              "2      France  10.8  0.8  27.5  0.9  8.9  16.8  6.0  22.6  5.7\n",
              "3  W. Germany   6.7  1.3  35.8  0.9  7.3  14.4  5.0  22.3  6.1\n",
              "4     Ireland  23.2  1.0  20.7  1.3  7.5  16.8  2.8  20.8  6.1"
            ]
          },
          "metadata": {},
          "execution_count": 26
        }
      ]
    },
    {
      "cell_type": "markdown",
      "metadata": {
        "id": "1f8-sl3PYF3i"
      },
      "source": [
        "## Inspecione os dados"
      ]
    },
    {
      "cell_type": "code",
      "metadata": {
        "id": "b9pggocxSZUD"
      },
      "source": [
        "# seu código"
      ],
      "execution_count": null,
      "outputs": []
    },
    {
      "cell_type": "markdown",
      "metadata": {
        "id": "qJUllMOaXMHp"
      },
      "source": [
        "## Preparação dos dados\n",
        "\n",
        "Normalize os dados empregando o `StandardScaler` (melhor) ou `scale`.\n",
        "\n",
        "$$ z_i = \\frac{x_i - \\bar{x}}{\\sigma(x)}$$\n",
        "\n",
        "E não esqueça de excluir dados não úteis ao treinamento."
      ]
    },
    {
      "cell_type": "code",
      "metadata": {
        "id": "Vl2mpSUUTgwS"
      },
      "source": [
        "# seu código"
      ],
      "execution_count": null,
      "outputs": []
    },
    {
      "cell_type": "markdown",
      "metadata": {
        "id": "379oIRQiYY2C"
      },
      "source": [
        "## Número de Cluster\n",
        "\n",
        "**Q1**. Qual ao valor médio de silhueta para o melhor número de clusters `kmedias`? (verifique de 2 a 10 clusters)\n",
        "\n",
        "> Empregue `random_state=1234` no kmédias e nenhum outro parâmetro."
      ]
    },
    {
      "cell_type": "code",
      "metadata": {
        "id": "eMaTPiZbUjVW"
      },
      "source": [
        "# seu código"
      ],
      "execution_count": null,
      "outputs": []
    },
    {
      "cell_type": "markdown",
      "metadata": {
        "id": "IseBYJx1aCxl"
      },
      "source": [
        "## Clusterização, 3 Clusters\n",
        "\n",
        "O número de clusters não segue um único critério e normalmente é feita uma análise conjunta de várias métricas. Sabemos que esse conjunto, independente do valor que você obteve no item anterior é 3. Faça assim a clusterizção para 3 clusters.\n",
        "\n",
        "**Q2**. Quantos elementos você encontra em cada cluster?\n",
        "\n",
        "> Empregue `random_state=1234` no kmédias e nenhum outro parâmetro."
      ]
    },
    {
      "cell_type": "code",
      "metadata": {
        "id": "ZKGNrmteVt8g"
      },
      "source": [
        "# seu código"
      ],
      "execution_count": null,
      "outputs": []
    },
    {
      "cell_type": "markdown",
      "metadata": {
        "id": "XvGKJ80Sa8g6"
      },
      "source": [
        "## Analisando os Grupos\n",
        "\n",
        "Analise os valores médios dos grupos e os países pertencentes a cada grupo.\n",
        "\n",
        "**Q3**. Há um grupo que se caracteriza por um % médio maior da força de trabalho empregada na agricultura. Qual esse percentual e que países fazem parte dele? \n",
        "\n"
      ]
    },
    {
      "cell_type": "code",
      "metadata": {
        "id": "gCCKi1aPEwJ6"
      },
      "source": [
        "# seu código"
      ],
      "execution_count": null,
      "outputs": []
    },
    {
      "cell_type": "markdown",
      "metadata": {
        "id": "P5mCjvj6cZWB"
      },
      "source": [
        "# **Exercício 2.** Recomendando Contatos de uma Rede Social \n",
        "Questões no Moodle **Q4, Q5**"
      ]
    },
    {
      "cell_type": "markdown",
      "metadata": {
        "id": "ueTym8XFc0Sy"
      },
      "source": [
        "Esta base de dados contém atributos de 30000 usuários de uma rede social com suas preferências. Seus nomes foram devidamente ofuscados.\n",
        "\n",
        "**Objetivo:** Dado um usuário, queremos recomendar novos contatos de amigos que mais se assemelhem ao usuário. Você deve usar o modelo não supervisionado de **k-vizinhos mais próximos não supervisionado** com a métrica `cosine`.\n",
        "\n"
      ]
    },
    {
      "cell_type": "code",
      "metadata": {
        "colab": {
          "base_uri": "https://localhost:8080/",
          "height": 226
        },
        "id": "vCCllh44Jd6I",
        "outputId": "1b9489ae-cc80-4e99-81b9-3815cc4d2d56"
      },
      "source": [
        "df = pd.read_csv('http://meusite.mackenzie.br/rogerio/data_load/social.csv')\n",
        "df.head()"
      ],
      "execution_count": null,
      "outputs": [
        {
          "output_type": "execute_result",
          "data": {
            "text/html": [
              "<div>\n",
              "<style scoped>\n",
              "    .dataframe tbody tr th:only-of-type {\n",
              "        vertical-align: middle;\n",
              "    }\n",
              "\n",
              "    .dataframe tbody tr th {\n",
              "        vertical-align: top;\n",
              "    }\n",
              "\n",
              "    .dataframe thead th {\n",
              "        text-align: right;\n",
              "    }\n",
              "</style>\n",
              "<table border=\"1\" class=\"dataframe\">\n",
              "  <thead>\n",
              "    <tr style=\"text-align: right;\">\n",
              "      <th></th>\n",
              "      <th>name</th>\n",
              "      <th>gradyear</th>\n",
              "      <th>gender</th>\n",
              "      <th>age</th>\n",
              "      <th>friends</th>\n",
              "      <th>basketball</th>\n",
              "      <th>football</th>\n",
              "      <th>soccer</th>\n",
              "      <th>softball</th>\n",
              "      <th>volleyball</th>\n",
              "      <th>swimming</th>\n",
              "      <th>cheerleading</th>\n",
              "      <th>baseball</th>\n",
              "      <th>tennis</th>\n",
              "      <th>sports</th>\n",
              "      <th>cute</th>\n",
              "      <th>sex</th>\n",
              "      <th>sexy</th>\n",
              "      <th>hot</th>\n",
              "      <th>kissed</th>\n",
              "      <th>dance</th>\n",
              "      <th>band</th>\n",
              "      <th>marching</th>\n",
              "      <th>music</th>\n",
              "      <th>rock</th>\n",
              "      <th>god</th>\n",
              "      <th>church</th>\n",
              "      <th>jesus</th>\n",
              "      <th>bible</th>\n",
              "      <th>hair</th>\n",
              "      <th>dress</th>\n",
              "      <th>blonde</th>\n",
              "      <th>mall</th>\n",
              "      <th>shopping</th>\n",
              "      <th>clothes</th>\n",
              "      <th>hollister</th>\n",
              "      <th>abercrombie</th>\n",
              "      <th>die</th>\n",
              "      <th>death</th>\n",
              "      <th>drunk</th>\n",
              "      <th>drugs</th>\n",
              "    </tr>\n",
              "  </thead>\n",
              "  <tbody>\n",
              "    <tr>\n",
              "      <th>0</th>\n",
              "      <td>Q0bcT0yVsaupy2DJ3P8m2owDPIwNL</td>\n",
              "      <td>2006</td>\n",
              "      <td>M</td>\n",
              "      <td>18.982</td>\n",
              "      <td>7</td>\n",
              "      <td>0</td>\n",
              "      <td>0</td>\n",
              "      <td>0</td>\n",
              "      <td>0</td>\n",
              "      <td>0</td>\n",
              "      <td>0</td>\n",
              "      <td>0</td>\n",
              "      <td>0</td>\n",
              "      <td>0</td>\n",
              "      <td>0</td>\n",
              "      <td>0</td>\n",
              "      <td>0</td>\n",
              "      <td>0</td>\n",
              "      <td>0</td>\n",
              "      <td>0</td>\n",
              "      <td>1</td>\n",
              "      <td>0</td>\n",
              "      <td>0</td>\n",
              "      <td>0</td>\n",
              "      <td>0</td>\n",
              "      <td>0</td>\n",
              "      <td>0</td>\n",
              "      <td>0</td>\n",
              "      <td>0</td>\n",
              "      <td>0</td>\n",
              "      <td>0</td>\n",
              "      <td>0</td>\n",
              "      <td>0</td>\n",
              "      <td>0</td>\n",
              "      <td>0</td>\n",
              "      <td>0</td>\n",
              "      <td>0</td>\n",
              "      <td>0</td>\n",
              "      <td>0</td>\n",
              "      <td>0</td>\n",
              "      <td>0</td>\n",
              "    </tr>\n",
              "    <tr>\n",
              "      <th>1</th>\n",
              "      <td>eeQvCDZZbJPoXTL13FaVgx</td>\n",
              "      <td>2006</td>\n",
              "      <td>F</td>\n",
              "      <td>18.801</td>\n",
              "      <td>0</td>\n",
              "      <td>0</td>\n",
              "      <td>1</td>\n",
              "      <td>0</td>\n",
              "      <td>0</td>\n",
              "      <td>0</td>\n",
              "      <td>0</td>\n",
              "      <td>0</td>\n",
              "      <td>0</td>\n",
              "      <td>0</td>\n",
              "      <td>0</td>\n",
              "      <td>1</td>\n",
              "      <td>0</td>\n",
              "      <td>0</td>\n",
              "      <td>0</td>\n",
              "      <td>0</td>\n",
              "      <td>0</td>\n",
              "      <td>0</td>\n",
              "      <td>0</td>\n",
              "      <td>2</td>\n",
              "      <td>2</td>\n",
              "      <td>1</td>\n",
              "      <td>0</td>\n",
              "      <td>0</td>\n",
              "      <td>0</td>\n",
              "      <td>6</td>\n",
              "      <td>4</td>\n",
              "      <td>0</td>\n",
              "      <td>1</td>\n",
              "      <td>0</td>\n",
              "      <td>0</td>\n",
              "      <td>0</td>\n",
              "      <td>0</td>\n",
              "      <td>0</td>\n",
              "      <td>0</td>\n",
              "      <td>0</td>\n",
              "      <td>0</td>\n",
              "    </tr>\n",
              "    <tr>\n",
              "      <th>2</th>\n",
              "      <td>oK3Mpwj7SfPnGLHG1V5yQBEOgn</td>\n",
              "      <td>2006</td>\n",
              "      <td>M</td>\n",
              "      <td>18.335</td>\n",
              "      <td>69</td>\n",
              "      <td>0</td>\n",
              "      <td>1</td>\n",
              "      <td>0</td>\n",
              "      <td>0</td>\n",
              "      <td>0</td>\n",
              "      <td>0</td>\n",
              "      <td>0</td>\n",
              "      <td>0</td>\n",
              "      <td>0</td>\n",
              "      <td>0</td>\n",
              "      <td>0</td>\n",
              "      <td>0</td>\n",
              "      <td>0</td>\n",
              "      <td>0</td>\n",
              "      <td>0</td>\n",
              "      <td>0</td>\n",
              "      <td>2</td>\n",
              "      <td>0</td>\n",
              "      <td>1</td>\n",
              "      <td>0</td>\n",
              "      <td>0</td>\n",
              "      <td>0</td>\n",
              "      <td>0</td>\n",
              "      <td>0</td>\n",
              "      <td>0</td>\n",
              "      <td>0</td>\n",
              "      <td>0</td>\n",
              "      <td>0</td>\n",
              "      <td>0</td>\n",
              "      <td>0</td>\n",
              "      <td>0</td>\n",
              "      <td>0</td>\n",
              "      <td>0</td>\n",
              "      <td>1</td>\n",
              "      <td>0</td>\n",
              "      <td>0</td>\n",
              "    </tr>\n",
              "    <tr>\n",
              "      <th>3</th>\n",
              "      <td>Z76KbVabKtfN2tLGthyk</td>\n",
              "      <td>2006</td>\n",
              "      <td>F</td>\n",
              "      <td>18.875</td>\n",
              "      <td>0</td>\n",
              "      <td>0</td>\n",
              "      <td>0</td>\n",
              "      <td>0</td>\n",
              "      <td>0</td>\n",
              "      <td>0</td>\n",
              "      <td>0</td>\n",
              "      <td>0</td>\n",
              "      <td>0</td>\n",
              "      <td>0</td>\n",
              "      <td>0</td>\n",
              "      <td>1</td>\n",
              "      <td>0</td>\n",
              "      <td>0</td>\n",
              "      <td>0</td>\n",
              "      <td>0</td>\n",
              "      <td>0</td>\n",
              "      <td>0</td>\n",
              "      <td>0</td>\n",
              "      <td>0</td>\n",
              "      <td>1</td>\n",
              "      <td>0</td>\n",
              "      <td>0</td>\n",
              "      <td>0</td>\n",
              "      <td>0</td>\n",
              "      <td>0</td>\n",
              "      <td>0</td>\n",
              "      <td>0</td>\n",
              "      <td>0</td>\n",
              "      <td>0</td>\n",
              "      <td>0</td>\n",
              "      <td>0</td>\n",
              "      <td>0</td>\n",
              "      <td>0</td>\n",
              "      <td>0</td>\n",
              "      <td>0</td>\n",
              "      <td>0</td>\n",
              "    </tr>\n",
              "    <tr>\n",
              "      <th>4</th>\n",
              "      <td>4Pmrj8MGAOODv4Wmot6htP1</td>\n",
              "      <td>2006</td>\n",
              "      <td>NaN</td>\n",
              "      <td>18.995</td>\n",
              "      <td>10</td>\n",
              "      <td>0</td>\n",
              "      <td>0</td>\n",
              "      <td>0</td>\n",
              "      <td>0</td>\n",
              "      <td>0</td>\n",
              "      <td>0</td>\n",
              "      <td>0</td>\n",
              "      <td>0</td>\n",
              "      <td>0</td>\n",
              "      <td>0</td>\n",
              "      <td>0</td>\n",
              "      <td>1</td>\n",
              "      <td>0</td>\n",
              "      <td>0</td>\n",
              "      <td>5</td>\n",
              "      <td>1</td>\n",
              "      <td>1</td>\n",
              "      <td>0</td>\n",
              "      <td>3</td>\n",
              "      <td>0</td>\n",
              "      <td>1</td>\n",
              "      <td>0</td>\n",
              "      <td>0</td>\n",
              "      <td>0</td>\n",
              "      <td>1</td>\n",
              "      <td>0</td>\n",
              "      <td>0</td>\n",
              "      <td>0</td>\n",
              "      <td>2</td>\n",
              "      <td>0</td>\n",
              "      <td>0</td>\n",
              "      <td>0</td>\n",
              "      <td>0</td>\n",
              "      <td>0</td>\n",
              "      <td>1</td>\n",
              "      <td>1</td>\n",
              "    </tr>\n",
              "  </tbody>\n",
              "</table>\n",
              "</div>"
            ],
            "text/plain": [
              "                            name  gradyear gender  ...  death  drunk  drugs\n",
              "0  Q0bcT0yVsaupy2DJ3P8m2owDPIwNL      2006      M  ...      0      0      0\n",
              "1         eeQvCDZZbJPoXTL13FaVgx      2006      F  ...      0      0      0\n",
              "2     oK3Mpwj7SfPnGLHG1V5yQBEOgn      2006      M  ...      1      0      0\n",
              "3           Z76KbVabKtfN2tLGthyk      2006      F  ...      0      0      0\n",
              "4        4Pmrj8MGAOODv4Wmot6htP1      2006    NaN  ...      0      1      1\n",
              "\n",
              "[5 rows x 41 columns]"
            ]
          },
          "metadata": {},
          "execution_count": 38
        }
      ]
    },
    {
      "cell_type": "markdown",
      "metadata": {
        "id": "ZCMdIz0IeT_o"
      },
      "source": [
        "## Inspecione os dados"
      ]
    },
    {
      "cell_type": "code",
      "metadata": {
        "id": "tTpvDku6PHxh"
      },
      "source": [
        "# seu código"
      ],
      "execution_count": null,
      "outputs": []
    },
    {
      "cell_type": "markdown",
      "metadata": {
        "id": "KFTspgEKeZT_"
      },
      "source": [
        "## Preparação dos dados\n",
        "\n",
        "\n",
        "\n"
      ]
    },
    {
      "cell_type": "markdown",
      "metadata": {
        "id": "VNMrWJ-ZehEj"
      },
      "source": [
        "### Tratamento de Nulos\n",
        "\n",
        "1. `age`, valores nulos devem receber a mediana de `age`.\n",
        "2. `gender`, valores nulos devem receber \"not_informed\".\n",
        "\n",
        "E não esqueça de excluir dados não úteis ao treinamento."
      ]
    },
    {
      "cell_type": "code",
      "metadata": {
        "id": "so0DQAzyPMIR"
      },
      "source": [
        "# seu código"
      ],
      "execution_count": null,
      "outputs": []
    },
    {
      "cell_type": "markdown",
      "metadata": {
        "id": "VOowKalGfIwU"
      },
      "source": [
        "### Encode \n",
        "\n",
        "Faça o *hot encode* dos atributos não numéricos, criando um novo atributo para cada um dos valores dos dados (*).\n",
        "\n",
        "<br>\n",
        "<br>\n",
        "<small>\n",
        "Por simplicidade, não consideraremos aqui a exclusão de um valor por multicolinearidade.\n",
        "\n"
      ]
    },
    {
      "cell_type": "code",
      "metadata": {
        "id": "iMKtkEzmOFjy"
      },
      "source": [
        "# seu código"
      ],
      "execution_count": null,
      "outputs": []
    },
    {
      "cell_type": "markdown",
      "metadata": {
        "id": "ZuCBs8leee7D"
      },
      "source": [
        "### Normalização\n",
        "\n",
        "Normalize os dados empregando o `StandardScaler` (melhor) ou `scale`.\n",
        "\n",
        "$$ z_i = \\frac{x_i - \\bar{x}}{\\sigma(x)}$$"
      ]
    },
    {
      "cell_type": "code",
      "metadata": {
        "id": "35Bl0BdNQpnC"
      },
      "source": [
        "# seu código"
      ],
      "execution_count": null,
      "outputs": []
    },
    {
      "cell_type": "markdown",
      "metadata": {
        "id": "7vdDMhWYgS00"
      },
      "source": [
        "## Selecione o Usuário \n",
        "\n",
        "Selecione o Usuário que deseja fazer a recomendação de novos amigos.\n",
        "\n",
        "> Selecione usuário de nome: `'eeQvCDZZbJPoXTL13FaVgx'` **considere este usuário independente do usuário na questão do Moodle que é simplesmente representativa**\n",
        "\n",
        "> Lembre-se que os atributos desse usuário precisarão passar pelas mesmas transformações efetuadas antes nos dados!\n"
      ]
    },
    {
      "cell_type": "code",
      "metadata": {
        "id": "VLI0jRh7UNxy"
      },
      "source": [
        "# seu código"
      ],
      "execution_count": null,
      "outputs": []
    },
    {
      "cell_type": "markdown",
      "metadata": {
        "id": "6zwYKRWZhI_k"
      },
      "source": [
        "## Encontre os 3-Vizinhos mais próximos\n",
        "\n",
        "Lembre-se de empregar a métrica `cosine`.\n",
        "\n",
        "**Q4**. Qual o nome do vizinho mais próximo?\n",
        "\n",
        "**Q5**. O que você pode dizer sobre esses *amigos*? "
      ]
    },
    {
      "cell_type": "code",
      "metadata": {
        "id": "8BJp1nWtRGhh"
      },
      "source": [
        "# seu código\n"
      ],
      "execution_count": null,
      "outputs": []
    },
    {
      "cell_type": "code",
      "metadata": {
        "id": "f8odeF-tRr_K"
      },
      "source": [
        "# seu código"
      ],
      "execution_count": null,
      "outputs": []
    }
  ]
}