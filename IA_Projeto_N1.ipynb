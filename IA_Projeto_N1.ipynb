{
  "nbformat": 4,
  "nbformat_minor": 0,
  "metadata": {
    "colab": {
      "name": "IA_Projeto_N1.ipynb",
      "provenance": [],
      "authorship_tag": "ABX9TyNWCbE01JLu243GrxgJ9MZU",
      "include_colab_link": true
    },
    "kernelspec": {
      "name": "python3",
      "display_name": "Python 3"
    },
    "language_info": {
      "name": "python"
    }
  },
  "cells": [
    {
      "cell_type": "markdown",
      "metadata": {
        "id": "view-in-github",
        "colab_type": "text"
      },
      "source": [
        "<a href=\"https://colab.research.google.com/github/Rogerio-mack/IA_2022_1S/blob/main/IA_Projeto_N1.ipynb\" target=\"_parent\"><img src=\"https://colab.research.google.com/assets/colab-badge.svg\" alt=\"Open In Colab\"/></a>"
      ]
    },
    {
      "cell_type": "markdown",
      "metadata": {
        "id": "J3LMBfpeHTwb"
      },
      "source": [
        "<head>\n",
        "  <meta name=\"author\" content=\"Rogério de Oliveira\">\n",
        "  <meta institution=\"author\" content=\"Universidade Presbiteriana Mackenzie\">\n",
        "</head>\n",
        "\n",
        "<img src=\"http://meusite.mackenzie.br/rogerio/mackenzie_logo/UPM.2_horizontal_vermelho.jpg\" width=300, align=\"right\">\n",
        "<!-- <h1 align=left><font size = 6, style=\"color:rgb(200,0,0)\"> optional title </font></h1> -->\n"
      ]
    },
    {
      "cell_type": "markdown",
      "source": [
        "# **IA Projeto N1**\n",
        "\n",
        "rogerio.oliveira@mackenzie.br\n",
        "\n",
        "---"
      ],
      "metadata": {
        "id": "f5_uM5lBQFLm"
      }
    },
    {
      "cell_type": "markdown",
      "source": [
        "# Classificação: Regressão Logística $\\times$ Regressão Linear\n",
        "\n",
        "Você aprendeu que a regressão linear é um modelo para a predição de valores ou quantidades contínuas, e que a regressão logística é um modelo para a predição de classes binárias. Entretanto, se considerarmos duas classes $0, 1$ como valores podemos empregar um modelo de regressão linear também para a classificação. **Neste projeto você vai escolher e empregar uma base de dados pública para comparar o uso da regressão linear e da regressão logística na classificação binária de dados**.\n",
        "\n",
        "\n",
        "\n",
        "\n",
        "\n",
        "\n",
        "\n",
        "\n",
        "\n"
      ],
      "metadata": {
        "id": "9_RgoCFXjKrU"
      }
    },
    {
      "cell_type": "markdown",
      "source": [
        "<img src=\"https://static.javatpoint.com/tutorial/machine-learning/images/linear-regression-vs-logistic-regression.png\" width=500, align=\"left\">\n",
        "\n"
      ],
      "metadata": {
        "id": "CC2GbpyPxHJc"
      }
    },
    {
      "cell_type": "markdown",
      "source": [
        "* **Objetivo**: Empregar uma base de dados pública para comparar o uso da regressão linear e da regressão logística na classificação binária de dados. Discutir os resultados e comparar com a referências sobre o tema.\n",
        "\n",
        "> * **Dados**. \n",
        "\n",
        ">> * **Base pública**. Indicando as referências *Kaggle* ou bases públicas de governo são ideais.\n",
        ">> * **Compartilhe a base para que a execução do notebook** do seu projeto esteja disponível para qualquer um. Sugestão: carregue no GitHub em uma pasta pública. Não empregue o Google Drive pois seria necessário adicionar um atalho.\n",
        ">> * **Min 1000 instâncias e 5 atributos preditores**.\n",
        ">> * **Podem ser empregadas transformações nos dados para criação das classes**. Não é o recomendado, mas se você estiver seguro da transformação e justificar adequadamente pode empregar. A transformação deve constar do código do notebook.\n",
        "\n",
        "* **Entrega**. Acesse aqui o [template](https://colab.research.google.com/github/Rogerio-mack/IA_2022_1S/blob/main/Projeto_Integrado_I_template.ipynb)  da entrega. Todos esses itens devem ser produzidos a partir dos dados brutos com Python e o notebook deve ser 100% executável.\n",
        "\n",
        "* **Data para Entrega** \n",
        "\n",
        "> 06.04\n",
        "\n",
        "* **Trabalho em Grupo** \n",
        "\n",
        "> Mínimo 2 e máximo 5 alunos. \n",
        "\n",
        "* **Critério de Avaliação**\n",
        "\n",
        "> N1 = .4 Atividade Avaliativa 1 + .4 Exercicios 1 + .2 Projeto\n",
        "\n",
        "> Projeto =  ver critério no template.\n",
        "\n",
        "\n"
      ],
      "metadata": {
        "id": "YCB0NCSxPuT7"
      }
    }
  ]
}